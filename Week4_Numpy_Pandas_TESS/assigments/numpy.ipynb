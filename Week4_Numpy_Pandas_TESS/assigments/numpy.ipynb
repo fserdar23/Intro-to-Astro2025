{
 "cells": [
  {
   "attachments": {
    "numpy.png": {
     "image/png": "[encoded data removed]"
    }
   },
   "cell_type": "markdown",
   "metadata": {},
   "source": [
    "# Python Libraries 1\n",
    "# Numpy ![numpy.png](attachment:numpy.png)"
   ]
  },
  {
   "cell_type": "code",
   "execution_count": 1,
   "metadata": {},
   "outputs": [],
   "source": [
    "import numpy"
   ]
  },
  {
   "cell_type": "code",
   "execution_count": 3,
   "metadata": {},
   "outputs": [],
   "source": [
    "l=[1,2,3]\n",
    "arr=numpy.array(l)"
   ]
  },
  {
   "cell_type": "code",
   "execution_count": 5,
   "metadata": {},
   "outputs": [
    {
     "data": {
      "text/plain": [
       "array([1, 2, 3])"
      ]
     },
     "execution_count": 5,
     "metadata": {},
     "output_type": "execute_result"
    }
   ],
   "source": [
    "arr"
   ]
  },
  {
   "cell_type": "code",
   "execution_count": 7,
   "metadata": {},
   "outputs": [],
   "source": [
    "import numpy as np"
   ]
  },
  {
   "cell_type": "code",
   "execution_count": 9,
   "metadata": {},
   "outputs": [
    {
     "data": {
      "text/plain": [
       "array([1, 2, 3])"
      ]
     },
     "execution_count": 9,
     "metadata": {},
     "output_type": "execute_result"
    }
   ],
   "source": [
    "np.array(l)"
   ]
  },
  {
   "cell_type": "code",
   "execution_count": 11,
   "metadata": {},
   "outputs": [],
   "source": [
    "arr_1=np.array([1,2,3])"
   ]
  },
  {
   "cell_type": "code",
   "execution_count": 13,
   "metadata": {},
   "outputs": [
    {
     "data": {
      "text/plain": [
       "array([1, 2, 3])"
      ]
     },
     "execution_count": 13,
     "metadata": {},
     "output_type": "execute_result"
    }
   ],
   "source": [
    "arr_1"
   ]
  },
  {
   "cell_type": "code",
   "execution_count": 15,
   "metadata": {},
   "outputs": [
    {
     "data": {
      "text/plain": [
       "array([2, 3, 4])"
      ]
     },
     "execution_count": 15,
     "metadata": {},
     "output_type": "execute_result"
    }
   ],
   "source": [
    "arr_1+1"
   ]
  },
  {
   "cell_type": "code",
   "execution_count": 17,
   "metadata": {},
   "outputs": [
    {
     "data": {
      "text/plain": [
       "array([2, 4, 6])"
      ]
     },
     "execution_count": 17,
     "metadata": {},
     "output_type": "execute_result"
    }
   ],
   "source": [
    "arr_1*2"
   ]
  },
  {
   "cell_type": "code",
   "execution_count": 19,
   "metadata": {},
   "outputs": [
    {
     "data": {
      "text/plain": [
       "[1, 2, 3, 2, 3, 4]"
      ]
     },
     "execution_count": 19,
     "metadata": {},
     "output_type": "execute_result"
    }
   ],
   "source": [
    "l_1=[1,2,3]\n",
    "l_2=[2,3,4]\n",
    "l_1+l_2"
   ]
  },
  {
   "cell_type": "code",
   "execution_count": 21,
   "metadata": {},
   "outputs": [],
   "source": [
    "arr_1=np.array(l_1)\n",
    "arr_2=np.array(l_2)"
   ]
  },
  {
   "cell_type": "code",
   "execution_count": 23,
   "metadata": {},
   "outputs": [
    {
     "data": {
      "text/plain": [
       "array([3, 5, 7])"
      ]
     },
     "execution_count": 23,
     "metadata": {},
     "output_type": "execute_result"
    }
   ],
   "source": [
    "arr_1+arr_2"
   ]
  },
  {
   "cell_type": "code",
   "execution_count": 25,
   "metadata": {},
   "outputs": [
    {
     "data": {
      "text/plain": [
       "6"
      ]
     },
     "execution_count": 25,
     "metadata": {},
     "output_type": "execute_result"
    }
   ],
   "source": [
    "arr_1.sum()"
   ]
  },
  {
   "cell_type": "code",
   "execution_count": 27,
   "metadata": {},
   "outputs": [
    {
     "data": {
      "text/plain": [
       "1"
      ]
     },
     "execution_count": 27,
     "metadata": {},
     "output_type": "execute_result"
    }
   ],
   "source": [
    "#Indexing\n",
    "arr_1[0]"
   ]
  },
  {
   "cell_type": "code",
   "execution_count": 29,
   "metadata": {},
   "outputs": [
    {
     "data": {
      "text/plain": [
       "3"
      ]
     },
     "execution_count": 29,
     "metadata": {},
     "output_type": "execute_result"
    }
   ],
   "source": [
    "arr_1[2]"
   ]
  },
  {
   "cell_type": "code",
   "execution_count": 31,
   "metadata": {},
   "outputs": [
    {
     "name": "stdout",
     "output_type": "stream",
     "text": [
      "1\n",
      "2\n",
      "3\n"
     ]
    }
   ],
   "source": [
    "for i in arr_1:\n",
    "    print(i)"
   ]
  },
  {
   "cell_type": "code",
   "execution_count": 33,
   "metadata": {},
   "outputs": [],
   "source": [
    "arr_2D=np.array([[1,1],[2,1],[3,2]])"
   ]
  },
  {
   "cell_type": "code",
   "execution_count": 35,
   "metadata": {},
   "outputs": [
    {
     "data": {
      "text/plain": [
       "array([[1, 1],\n",
       "       [2, 1],\n",
       "       [3, 2]])"
      ]
     },
     "execution_count": 35,
     "metadata": {},
     "output_type": "execute_result"
    }
   ],
   "source": [
    "arr_2D"
   ]
  },
  {
   "cell_type": "code",
   "execution_count": 39,
   "metadata": {},
   "outputs": [],
   "source": [
    "rand_array=np.random.random(size=[3,2])"
   ]
  },
  {
   "cell_type": "code",
   "execution_count": 41,
   "metadata": {},
   "outputs": [
    {
     "data": {
      "text/plain": [
       "array([[0.82772636, 0.72350389],\n",
       "       [0.17611222, 0.34846671],\n",
       "       [0.07993198, 0.15940779]])"
      ]
     },
     "execution_count": 41,
     "metadata": {},
     "output_type": "execute_result"
    }
   ],
   "source": [
    "rand_array"
   ]
  },
  {
   "cell_type": "code",
   "execution_count": 43,
   "metadata": {},
   "outputs": [
    {
     "data": {
      "text/plain": [
       "array([[0., 0.],\n",
       "       [0., 0.],\n",
       "       [0., 0.]])"
      ]
     },
     "execution_count": 43,
     "metadata": {},
     "output_type": "execute_result"
    }
   ],
   "source": [
    "zero_array=np.zeros(shape=[3,2])\n",
    "zero_array"
   ]
  },
  {
   "cell_type": "code",
   "execution_count": 45,
   "metadata": {},
   "outputs": [
    {
     "data": {
      "text/plain": [
       "array([[0., 0.],\n",
       "       [0., 0.],\n",
       "       [0., 0.]])"
      ]
     },
     "execution_count": 45,
     "metadata": {},
     "output_type": "execute_result"
    }
   ],
   "source": [
    "zero_array"
   ]
  },
  {
   "cell_type": "code",
   "execution_count": 47,
   "metadata": {},
   "outputs": [],
   "source": [
    "rand_array=np.random.random(size=[5,5])"
   ]
  },
  {
   "cell_type": "code",
   "execution_count": 49,
   "metadata": {},
   "outputs": [
    {
     "data": {
      "text/plain": [
       "array([[0.09121285, 0.9719573 , 0.45990277, 0.91173052, 0.064611  ],\n",
       "       [0.77074998, 0.26423694, 0.72821119, 0.05126188, 0.64463057],\n",
       "       [0.99820641, 0.67862059, 0.69575073, 0.95084594, 0.95956421],\n",
       "       [0.9795941 , 0.18447345, 0.12278745, 0.60161291, 0.86003413],\n",
       "       [0.31227759, 0.62036474, 0.63826522, 0.48424948, 0.1521612 ]])"
      ]
     },
     "execution_count": 49,
     "metadata": {},
     "output_type": "execute_result"
    }
   ],
   "source": [
    "rand_array"
   ]
  },
  {
   "cell_type": "code",
   "execution_count": 51,
   "metadata": {},
   "outputs": [
    {
     "data": {
      "text/plain": [
       "0.2642369356558465"
      ]
     },
     "execution_count": 51,
     "metadata": {},
     "output_type": "execute_result"
    }
   ],
   "source": [
    "rand_array[1,1]"
   ]
  },
  {
   "cell_type": "code",
   "execution_count": 53,
   "metadata": {},
   "outputs": [
    {
     "data": {
      "text/plain": [
       "array([[0.09121285, 0.9719573 ],\n",
       "       [0.77074998, 0.26423694]])"
      ]
     },
     "execution_count": 53,
     "metadata": {},
     "output_type": "execute_result"
    }
   ],
   "source": [
    "rand_array[0:2,0:2]"
   ]
  },
  {
   "cell_type": "code",
   "execution_count": 55,
   "metadata": {},
   "outputs": [
    {
     "data": {
      "text/plain": [
       "array([2.49941444, 2.45909056, 4.28298788, 2.74850203, 2.20731824])"
      ]
     },
     "execution_count": 55,
     "metadata": {},
     "output_type": "execute_result"
    }
   ],
   "source": [
    "rand_array.sum(axis=1)"
   ]
  },
  {
   "cell_type": "code",
   "execution_count": 57,
   "metadata": {},
   "outputs": [
    {
     "data": {
      "text/plain": [
       "2.08058552"
      ]
     },
     "execution_count": 57,
     "metadata": {},
     "output_type": "execute_result"
    }
   ],
   "source": [
    "np.array([0.4924862 , 0.58400964, 0.42182289, 0.31476085, 0.26750594]).sum()"
   ]
  },
  {
   "cell_type": "code",
   "execution_count": 59,
   "metadata": {},
   "outputs": [
    {
     "data": {
      "text/plain": [
       "array([[0.91212851, 9.71957298, 4.59902771, 9.11730517, 0.64611004],\n",
       "       [7.70749977, 2.64236936, 7.28211195, 0.5126188 , 6.44630572],\n",
       "       [9.98206412, 6.78620594, 6.95750727, 9.50845938, 9.59564206],\n",
       "       [9.79594101, 1.84473445, 1.2278745 , 6.01612907, 8.60034129],\n",
       "       [3.12277594, 6.20364744, 6.38265224, 4.84249479, 1.52161196]])"
      ]
     },
     "execution_count": 59,
     "metadata": {},
     "output_type": "execute_result"
    }
   ],
   "source": [
    "rand_array*10"
   ]
  },
  {
   "cell_type": "code",
   "execution_count": 61,
   "metadata": {},
   "outputs": [
    {
     "data": {
      "text/plain": [
       "array([[0.09121285, 0.9719573 , 0.45990277, 0.91173052, 0.064611  ],\n",
       "       [0.77074998, 0.26423694, 0.72821119, 0.05126188, 0.64463057],\n",
       "       [0.99820641, 0.67862059, 0.69575073, 0.95084594, 0.95956421],\n",
       "       [0.9795941 , 0.18447345, 0.12278745, 0.60161291, 0.86003413],\n",
       "       [0.31227759, 0.62036474, 0.63826522, 0.48424948, 0.1521612 ]])"
      ]
     },
     "execution_count": 61,
     "metadata": {},
     "output_type": "execute_result"
    }
   ],
   "source": [
    "rand_array"
   ]
  },
  {
   "cell_type": "code",
   "execution_count": 63,
   "metadata": {},
   "outputs": [],
   "source": [
    "rand_array=np.random.random(size=100)"
   ]
  },
  {
   "cell_type": "code",
   "execution_count": 65,
   "metadata": {},
   "outputs": [],
   "source": [
    "rand_array.sort()\n"
   ]
  },
  {
   "cell_type": "code",
   "execution_count": 73,
   "metadata": {},
   "outputs": [
    {
     "data": {
      "text/plain": [
       "array([0.00461126, 0.00752305, 0.00806782, 0.02075916, 0.02395652,\n",
       "       0.03220555, 0.05678095, 0.05719949, 0.06110558, 0.0770386 ,\n",
       "       0.07703963, 0.08049448, 0.09846541, 0.10434052, 0.10718339,\n",
       "       0.11337819, 0.13639633, 0.13994872, 0.14545102, 0.14611654,\n",
       "       0.16000662, 0.16977334, 0.17595414, 0.17663419, 0.20150023,\n",
       "       0.21425353, 0.21648717, 0.25213735, 0.28830426, 0.29228099,\n",
       "       0.30964434, 0.31286742, 0.31718052, 0.31736396, 0.31829378,\n",
       "       0.31979844, 0.32287035, 0.3439248 , 0.35780581, 0.359706  ,\n",
       "       0.36453445, 0.37259389, 0.37924077, 0.39313377, 0.41760772,\n",
       "       0.42216777, 0.42903455, 0.45410107, 0.45591513, 0.47505703,\n",
       "       0.47874507, 0.48116064, 0.48371479, 0.48589066, 0.49744609,\n",
       "       0.51064215, 0.52699786, 0.52978   , 0.53221498, 0.54909863,\n",
       "       0.55227846, 0.55501327, 0.55835263, 0.56795551, 0.57530585,\n",
       "       0.5759825 , 0.64208313, 0.64237665, 0.65188449, 0.65673375,\n",
       "       0.65733481, 0.6706126 , 0.6874474 , 0.70162326, 0.70622994,\n",
       "       0.71305195, 0.72291025, 0.73034036, 0.73089145, 0.75369989,\n",
       "       0.75494512, 0.76182733, 0.76898324, 0.79209157, 0.80519932,\n",
       "       0.81711905, 0.84916275, 0.86179995, 0.86543285, 0.8824741 ,\n",
       "       0.91296455, 0.91705593, 0.94108284, 0.94310314, 0.94807862,\n",
       "       0.95770346, 0.96002038, 0.96296084, 0.98447857, 0.99987809])"
      ]
     },
     "execution_count": 73,
     "metadata": {},
     "output_type": "execute_result"
    }
   ],
   "source": [
    "rand_array"
   ]
  },
  {
   "cell_type": "code",
   "execution_count": 83,
   "metadata": {},
   "outputs": [
    {
     "ename": "TypeError",
     "evalue": "'numpy.float64' object is not iterable",
     "output_type": "error",
     "traceback": [
      "\u001b[1;31m---------------------------------------------------------------------------\u001b[0m",
      "\u001b[1;31mTypeError\u001b[0m                                 Traceback (most recent call last)",
      "Cell \u001b[1;32mIn[83], line 2\u001b[0m\n\u001b[0;32m      1\u001b[0m \u001b[38;5;28;01mfor\u001b[39;00m row \u001b[38;5;129;01min\u001b[39;00m rand_array:\n\u001b[1;32m----> 2\u001b[0m     \u001b[38;5;28;01mfor\u001b[39;00m i \u001b[38;5;129;01min\u001b[39;00m row:\n\u001b[0;32m      3\u001b[0m         \u001b[38;5;28mprint\u001b[39m(i)\n",
      "\u001b[1;31mTypeError\u001b[0m: 'numpy.float64' object is not iterable"
     ]
    }
   ],
   "source": [
    "for row in rand_array:\n",
    "    for i in row:\n",
    "        print(i)"
   ]
  },
  {
   "cell_type": "code",
   "execution_count": 81,
   "metadata": {
    "scrolled": true
   },
   "outputs": [
    {
     "name": "stdout",
     "output_type": "stream",
     "text": [
      "0.004611258486963532\n",
      "0.00752305061861791\n",
      "0.008067816152506957\n",
      "0.020759159740463273\n",
      "0.02395651732002957\n",
      "0.03220554777920159\n",
      "0.056780950525211704\n",
      "0.05719949025912585\n",
      "0.06110557653401749\n",
      "0.07703860440935995\n",
      "0.07703963038278916\n",
      "0.08049448309911478\n",
      "0.09846541068742198\n",
      "0.10434052421579554\n",
      "0.10718339142307653\n",
      "0.11337818788836784\n",
      "0.1363963337115428\n",
      "0.1399487154117257\n",
      "0.14545101971345376\n",
      "0.14611653628524168\n",
      "0.1600066218446805\n",
      "0.16977333662107796\n",
      "0.17595413908697177\n",
      "0.1766341908877419\n",
      "0.20150023118758587\n",
      "0.2142535302788109\n",
      "0.21648716857292305\n",
      "0.2521373492596529\n",
      "0.288304261189702\n",
      "0.29228099181518963\n",
      "0.3096443367101148\n",
      "0.312867418158007\n",
      "0.31718052328130175\n",
      "0.3173639560964059\n",
      "0.31829377683703886\n",
      "0.31979843760865534\n",
      "0.32287035456495017\n",
      "0.3439247997802263\n",
      "0.35780581460690664\n",
      "0.3597060029866914\n",
      "0.3645344486813046\n",
      "0.3725938931101196\n",
      "0.37924076552002794\n",
      "0.39313377071069966\n",
      "0.41760771648288886\n",
      "0.42216776551570956\n",
      "0.42903455086750797\n",
      "0.4541010673893927\n",
      "0.45591513212082513\n",
      "0.4750570345777253\n",
      "0.478745065834393\n",
      "0.48116064075280285\n",
      "0.48371478768470955\n",
      "0.4858906579672746\n",
      "0.49744609376254256\n",
      "0.5106421510300418\n",
      "0.5269978644673455\n",
      "0.5297799998641474\n",
      "0.5322149816471554\n",
      "0.5490986334101251\n",
      "0.5522784573807129\n",
      "0.5550132699334567\n",
      "0.5583526259796021\n",
      "0.5679555074609236\n",
      "0.5753058540042358\n",
      "0.575982501443125\n",
      "0.6420831313506568\n",
      "0.6423766454886282\n",
      "0.6518844855957362\n",
      "0.6567337495985074\n",
      "0.6573348076630873\n",
      "0.6706125988356434\n",
      "0.6874473963165696\n",
      "0.7016232553507241\n",
      "0.7062299394389608\n",
      "0.7130519533730615\n",
      "0.7229102461861695\n",
      "0.7303403628033353\n",
      "0.7308914517147319\n",
      "0.7536998901670238\n",
      "0.7549451224035227\n",
      "0.7618273256070935\n",
      "0.7689832426750236\n",
      "0.7920915740043092\n",
      "0.8051993190085667\n",
      "0.8171190502612814\n",
      "0.8491627493026955\n",
      "0.8617999542954438\n",
      "0.8654328532555363\n",
      "0.8824740987129317\n",
      "0.9129645494579565\n",
      "0.9170559310799423\n",
      "0.9410828403586524\n",
      "0.9431031373476698\n",
      "0.9480786246959985\n",
      "0.9577034612518832\n",
      "0.9600203820402874\n",
      "0.9629608386607904\n",
      "0.9844785697695058\n",
      "0.9998780861728092\n"
     ]
    }
   ],
   "source": [
    "# rand_array is not matris\n",
    "for value in rand_array:\n",
    "    print(value)"
   ]
  },
  {
   "cell_type": "code",
   "execution_count": 37,
   "metadata": {},
   "outputs": [],
   "source": [
    "# Exercises."
   ]
  },
  {
   "cell_type": "code",
   "execution_count": 85,
   "metadata": {},
   "outputs": [
    {
     "data": {
      "text/plain": [
       "500.0"
      ]
     },
     "execution_count": 85,
     "metadata": {},
     "output_type": "execute_result"
    }
   ],
   "source": [
    "x=np.linspace(0,10,100)\n",
    "x.sum()"
   ]
  },
  {
   "cell_type": "code",
   "execution_count": 89,
   "metadata": {},
   "outputs": [
    {
     "data": {
      "text/plain": [
       "array([ 0.        ,  0.1010101 ,  0.2020202 ,  0.3030303 ,  0.4040404 ,\n",
       "        0.50505051,  0.60606061,  0.70707071,  0.80808081,  0.90909091,\n",
       "        1.01010101,  1.11111111,  1.21212121,  1.31313131,  1.41414141,\n",
       "        1.51515152,  1.61616162,  1.71717172,  1.81818182,  1.91919192,\n",
       "        2.02020202,  2.12121212,  2.22222222,  2.32323232,  2.42424242,\n",
       "        2.52525253,  2.62626263,  2.72727273,  2.82828283,  2.92929293,\n",
       "        3.03030303,  3.13131313,  3.23232323,  3.33333333,  3.43434343,\n",
       "        3.53535354,  3.63636364,  3.73737374,  3.83838384,  3.93939394,\n",
       "        4.04040404,  4.14141414,  4.24242424,  4.34343434,  4.44444444,\n",
       "        4.54545455,  4.64646465,  4.74747475,  4.84848485,  4.94949495,\n",
       "        5.05050505,  5.15151515,  5.25252525,  5.35353535,  5.45454545,\n",
       "        5.55555556,  5.65656566,  5.75757576,  5.85858586,  5.95959596,\n",
       "        6.06060606,  6.16161616,  6.26262626,  6.36363636,  6.46464646,\n",
       "        6.56565657,  6.66666667,  6.76767677,  6.86868687,  6.96969697,\n",
       "        7.07070707,  7.17171717,  7.27272727,  7.37373737,  7.47474747,\n",
       "        7.57575758,  7.67676768,  7.77777778,  7.87878788,  7.97979798,\n",
       "        8.08080808,  8.18181818,  8.28282828,  8.38383838,  8.48484848,\n",
       "        8.58585859,  8.68686869,  8.78787879,  8.88888889,  8.98989899,\n",
       "        9.09090909,  9.19191919,  9.29292929,  9.39393939,  9.49494949,\n",
       "        9.5959596 ,  9.6969697 ,  9.7979798 ,  9.8989899 , 10.        ])"
      ]
     },
     "execution_count": 89,
     "metadata": {},
     "output_type": "execute_result"
    }
   ],
   "source": [
    "x"
   ]
  },
  {
   "cell_type": "code",
   "execution_count": 91,
   "metadata": {},
   "outputs": [
    {
     "data": {
      "text/plain": [
       "array([ 2.        ,  2.70707071,  3.41414141,  4.12121212,  4.82828283,\n",
       "        5.53535354,  6.24242424,  6.94949495,  7.65656566,  8.36363636,\n",
       "        9.07070707,  9.77777778, 10.48484848, 11.19191919, 11.8989899 ,\n",
       "       12.60606061, 13.31313131, 14.02020202, 14.72727273, 15.43434343,\n",
       "       16.14141414, 16.84848485, 17.55555556, 18.26262626, 18.96969697,\n",
       "       19.67676768, 20.38383838, 21.09090909, 21.7979798 , 22.50505051,\n",
       "       23.21212121, 23.91919192, 24.62626263, 25.33333333, 26.04040404,\n",
       "       26.74747475, 27.45454545, 28.16161616, 28.86868687, 29.57575758,\n",
       "       30.28282828, 30.98989899, 31.6969697 , 32.4040404 , 33.11111111,\n",
       "       33.81818182, 34.52525253, 35.23232323, 35.93939394, 36.64646465,\n",
       "       37.35353535, 38.06060606, 38.76767677, 39.47474747, 40.18181818,\n",
       "       40.88888889, 41.5959596 , 42.3030303 , 43.01010101, 43.71717172,\n",
       "       44.42424242, 45.13131313, 45.83838384, 46.54545455, 47.25252525,\n",
       "       47.95959596, 48.66666667, 49.37373737, 50.08080808, 50.78787879,\n",
       "       51.49494949, 52.2020202 , 52.90909091, 53.61616162, 54.32323232,\n",
       "       55.03030303, 55.73737374, 56.44444444, 57.15151515, 57.85858586,\n",
       "       58.56565657, 59.27272727, 59.97979798, 60.68686869, 61.39393939,\n",
       "       62.1010101 , 62.80808081, 63.51515152, 64.22222222, 64.92929293,\n",
       "       65.63636364, 66.34343434, 67.05050505, 67.75757576, 68.46464646,\n",
       "       69.17171717, 69.87878788, 70.58585859, 71.29292929, 72.        ])"
      ]
     },
     "execution_count": 91,
     "metadata": {},
     "output_type": "execute_result"
    }
   ],
   "source": [
    "#Calculate y=7x+2\n",
    "y=7*x+2\n",
    "y"
   ]
  },
  {
   "cell_type": "code",
   "execution_count": 93,
   "metadata": {},
   "outputs": [
    {
     "data": {
      "text/plain": [
       "array([0.        , 0.01020304, 0.04081216, 0.09182736, 0.16324865,\n",
       "       0.25507601, 0.36730946, 0.49994898, 0.65299459, 0.82644628])"
      ]
     },
     "execution_count": 93,
     "metadata": {},
     "output_type": "execute_result"
    }
   ],
   "source": [
    "#Calculate y=x**2 for the first 10 elements\n",
    "first_10=x[0:10]\n",
    "y=first_10**2\n",
    "y"
   ]
  },
  {
   "cell_type": "code",
   "execution_count": 95,
   "metadata": {},
   "outputs": [
    {
     "data": {
      "text/plain": [
       "0.040812162024283234"
      ]
     },
     "execution_count": 95,
     "metadata": {},
     "output_type": "execute_result"
    }
   ],
   "source": [
    "x[2]*x[2]"
   ]
  },
  {
   "cell_type": "code",
   "execution_count": 97,
   "metadata": {},
   "outputs": [],
   "source": [
    "#Define a 100 equally spaced points using linspace. And then another 100 random points. And then add x and y together\n",
    "x=np.linspace(0,10,100)\n",
    "\n",
    "y=np.random.random(size=100)\n"
   ]
  },
  {
   "cell_type": "code",
   "execution_count": 99,
   "metadata": {},
   "outputs": [],
   "source": [
    "#Add x and y together and save in z\n",
    "z=x+y"
   ]
  },
  {
   "cell_type": "code",
   "execution_count": 101,
   "metadata": {},
   "outputs": [],
   "source": [
    "#Calculate the sum of of x,y and z and tell me which one is the largest"
   ]
  },
  {
   "cell_type": "code",
   "execution_count": 103,
   "metadata": {},
   "outputs": [
    {
     "data": {
      "text/plain": [
       "array([ 0.22080341,  0.36754794,  0.4613202 ,  1.26744986,  0.42065998,\n",
       "        1.22056541,  1.20436031,  0.81924788,  0.88030616,  1.76283212,\n",
       "        1.50428831,  1.19310665,  2.17732523,  1.60821369,  1.52190094,\n",
       "        1.9443141 ,  2.04957819,  1.86547739,  2.37431914,  2.05259547,\n",
       "        2.44154981,  2.98309689,  2.4815613 ,  3.13902171,  2.70068329,\n",
       "        3.40376659,  3.01563357,  3.71645844,  2.95020546,  3.36340181,\n",
       "        3.58008749,  3.39521604,  3.63386575,  4.23906185,  4.35131296,\n",
       "        3.63810646,  3.87116294,  3.79469603,  4.30369935,  4.2095965 ,\n",
       "        4.84882415,  5.05856461,  4.33232726,  4.67119618,  4.69834477,\n",
       "        5.10838889,  5.46014804,  4.82797251,  5.36090327,  5.75801807,\n",
       "        5.74262323,  5.82610169,  5.47088536,  5.65569294,  5.65489648,\n",
       "        6.36867524,  5.90912845,  6.33480452,  6.09059906,  6.43121547,\n",
       "        6.84145304,  6.4732252 ,  6.62331561,  6.82709292,  6.95749831,\n",
       "        7.26725361,  7.33293262,  7.24593966,  7.31576919,  7.18197188,\n",
       "        7.5100548 ,  7.82601514,  8.10269581,  7.4400566 ,  7.59592179,\n",
       "        8.06579433,  7.86788218,  8.57614702,  8.41676   ,  8.60185358,\n",
       "        9.06092072,  8.47854402,  9.13716264,  8.56712839,  8.90609548,\n",
       "        9.37018978,  8.94170176,  9.60639771,  9.68678812,  9.22956705,\n",
       "        9.10748035,  9.92771842, 10.24564293, 10.38180741,  9.51284309,\n",
       "       10.13383757, 10.03905743, 10.48071627, 10.38857717, 10.66381231])"
      ]
     },
     "execution_count": 103,
     "metadata": {},
     "output_type": "execute_result"
    }
   ],
   "source": [
    "z"
   ]
  },
  {
   "cell_type": "code",
   "execution_count": 107,
   "metadata": {},
   "outputs": [
    {
     "name": "stdout",
     "output_type": "stream",
     "text": [
      "500.0\n",
      "47.6733286738878\n",
      "547.6733286738879\n"
     ]
    }
   ],
   "source": [
    "print(x.sum())\n",
    "print(y.sum())\n",
    "print(z.sum())"
   ]
  },
  {
   "cell_type": "code",
   "execution_count": null,
   "metadata": {},
   "outputs": [],
   "source": []
  }
 ],
 "metadata": {
  "kernelspec": {
   "display_name": "Python (fatsergpu)",
   "language": "python",
   "name": "fatsergpu"
  },
  "language_info": {
   "codemirror_mode": {
    "name": "ipython",
    "version": 3
   },
   "file_extension": ".py",
   "mimetype": "text/x-python",
   "name": "python",
   "nbconvert_exporter": "python",
   "pygments_lexer": "ipython3",
   "version": "3.12.3"
  }
 },
 "nbformat": 4,
 "nbformat_minor": 4
}
